{
 "cells": [
  {
   "cell_type": "code",
   "execution_count": 2,
   "id": "8daf1f85-0499-4ca7-bfeb-7edca0f1701d",
   "metadata": {},
   "outputs": [],
   "source": [
    "import numpy as np\n",
    "import pandas as pd\n",
    "import matplotlib.pyplot as plt\n",
    "import seaborn as sns\n",
    "import sklearn as sk\n",
    "from sklearn.manifold import TSNE\n",
    "from sklearn.preprocessing import StandardScaler"
   ]
  },
  {
   "cell_type": "code",
   "execution_count": 4,
   "id": "9dd3713f-97fb-4e38-a266-3d14f9d1523e",
   "metadata": {},
   "outputs": [],
   "source": [
    "df = pd.read_csv('data/data_neiro.csv')\n",
    "df = df.drop('Unnamed: 14', axis=1)"
   ]
  },
  {
   "cell_type": "code",
   "execution_count": 6,
   "id": "97327e21-5de3-4da7-82fc-03fd211957bf",
   "metadata": {},
   "outputs": [
    {
     "name": "stdout",
     "output_type": "stream",
     "text": [
      "<class 'pandas.core.frame.DataFrame'>\n",
      "RangeIndex: 114756 entries, 0 to 114755\n",
      "Data columns (total 14 columns):\n",
      " #   Column  Non-Null Count   Dtype  \n",
      "---  ------  --------------   -----  \n",
      " 0   AF3     114756 non-null  float64\n",
      " 1   AF4     114756 non-null  float64\n",
      " 2   F3      114756 non-null  float64\n",
      " 3   F4      114756 non-null  float64\n",
      " 4   F7      114756 non-null  float64\n",
      " 5   F8      114756 non-null  float64\n",
      " 6   FC5     114756 non-null  float64\n",
      " 7   FC6     114756 non-null  float64\n",
      " 8   O1      114756 non-null  float64\n",
      " 9   O2      114756 non-null  float64\n",
      " 10  P7      114756 non-null  float64\n",
      " 11  P8      114756 non-null  float64\n",
      " 12  T7      114756 non-null  float64\n",
      " 13  T8      114756 non-null  float64\n",
      "dtypes: float64(14)\n",
      "memory usage: 12.3 MB\n"
     ]
    }
   ],
   "source": [
    "df.info()"
   ]
  },
  {
   "cell_type": "code",
   "execution_count": 10,
   "id": "839e5098-be10-4c6a-bb09-5cb0bb90cee1",
   "metadata": {},
   "outputs": [
    {
     "name": "stderr",
     "output_type": "stream",
     "text": [
      "Cloning into 'ForLab'...\n"
     ]
    }
   ],
   "source": [
    "!https://github.com/kayl71/ForLab"
   ]
  },
  {
   "cell_type": "code",
   "execution_count": 8,
   "id": "0ef35059-8611-4c0c-9bcc-65a8986b0876",
   "metadata": {},
   "outputs": [
    {
     "data": {
      "text/html": [
       "<div>\n",
       "<style scoped>\n",
       "    .dataframe tbody tr th:only-of-type {\n",
       "        vertical-align: middle;\n",
       "    }\n",
       "\n",
       "    .dataframe tbody tr th {\n",
       "        vertical-align: top;\n",
       "    }\n",
       "\n",
       "    .dataframe thead th {\n",
       "        text-align: right;\n",
       "    }\n",
       "</style>\n",
       "<table border=\"1\" class=\"dataframe\">\n",
       "  <thead>\n",
       "    <tr style=\"text-align: right;\">\n",
       "      <th></th>\n",
       "      <th>AF3</th>\n",
       "      <th>AF4</th>\n",
       "      <th>F3</th>\n",
       "      <th>F4</th>\n",
       "      <th>F7</th>\n",
       "      <th>F8</th>\n",
       "      <th>FC5</th>\n",
       "      <th>FC6</th>\n",
       "      <th>O1</th>\n",
       "      <th>O2</th>\n",
       "      <th>P7</th>\n",
       "      <th>P8</th>\n",
       "      <th>T7</th>\n",
       "      <th>T8</th>\n",
       "    </tr>\n",
       "  </thead>\n",
       "  <tbody>\n",
       "    <tr>\n",
       "      <th>count</th>\n",
       "      <td>114756.000000</td>\n",
       "      <td>114756.000000</td>\n",
       "      <td>114756.000000</td>\n",
       "      <td>114756.000000</td>\n",
       "      <td>114756.000000</td>\n",
       "      <td>114756.000000</td>\n",
       "      <td>114756.000000</td>\n",
       "      <td>114756.000000</td>\n",
       "      <td>114756.000000</td>\n",
       "      <td>114756.000000</td>\n",
       "      <td>114756.000000</td>\n",
       "      <td>114756.000000</td>\n",
       "      <td>114756.000000</td>\n",
       "      <td>114756.000000</td>\n",
       "    </tr>\n",
       "    <tr>\n",
       "      <th>mean</th>\n",
       "      <td>0.012065</td>\n",
       "      <td>0.003977</td>\n",
       "      <td>0.015898</td>\n",
       "      <td>-0.006394</td>\n",
       "      <td>-0.010433</td>\n",
       "      <td>-0.041711</td>\n",
       "      <td>-0.023973</td>\n",
       "      <td>0.010470</td>\n",
       "      <td>-0.031391</td>\n",
       "      <td>0.013208</td>\n",
       "      <td>-0.000288</td>\n",
       "      <td>0.001717</td>\n",
       "      <td>0.014933</td>\n",
       "      <td>-0.006158</td>\n",
       "    </tr>\n",
       "    <tr>\n",
       "      <th>std</th>\n",
       "      <td>8.960699</td>\n",
       "      <td>9.292756</td>\n",
       "      <td>11.849812</td>\n",
       "      <td>12.009312</td>\n",
       "      <td>20.638574</td>\n",
       "      <td>13.298301</td>\n",
       "      <td>14.981620</td>\n",
       "      <td>12.938308</td>\n",
       "      <td>19.195509</td>\n",
       "      <td>16.776645</td>\n",
       "      <td>20.575209</td>\n",
       "      <td>11.684625</td>\n",
       "      <td>14.723296</td>\n",
       "      <td>9.859680</td>\n",
       "    </tr>\n",
       "    <tr>\n",
       "      <th>min</th>\n",
       "      <td>-51.624500</td>\n",
       "      <td>-71.382200</td>\n",
       "      <td>-199.866600</td>\n",
       "      <td>-94.795000</td>\n",
       "      <td>-234.664500</td>\n",
       "      <td>-103.468500</td>\n",
       "      <td>-83.861800</td>\n",
       "      <td>-75.213300</td>\n",
       "      <td>-144.528500</td>\n",
       "      <td>-96.621000</td>\n",
       "      <td>-143.605700</td>\n",
       "      <td>-71.560600</td>\n",
       "      <td>-136.875800</td>\n",
       "      <td>-57.277100</td>\n",
       "    </tr>\n",
       "    <tr>\n",
       "      <th>25%</th>\n",
       "      <td>-5.763050</td>\n",
       "      <td>-5.417950</td>\n",
       "      <td>-6.191325</td>\n",
       "      <td>-7.387200</td>\n",
       "      <td>-8.135475</td>\n",
       "      <td>-9.125625</td>\n",
       "      <td>-9.804300</td>\n",
       "      <td>-8.768925</td>\n",
       "      <td>-11.420125</td>\n",
       "      <td>-10.751525</td>\n",
       "      <td>-12.103150</td>\n",
       "      <td>-7.731850</td>\n",
       "      <td>-7.727000</td>\n",
       "      <td>-6.092650</td>\n",
       "    </tr>\n",
       "    <tr>\n",
       "      <th>50%</th>\n",
       "      <td>-0.182660</td>\n",
       "      <td>-0.250595</td>\n",
       "      <td>-0.161820</td>\n",
       "      <td>-0.016519</td>\n",
       "      <td>-0.058142</td>\n",
       "      <td>0.052383</td>\n",
       "      <td>0.111575</td>\n",
       "      <td>-0.286610</td>\n",
       "      <td>-0.202450</td>\n",
       "      <td>-0.050939</td>\n",
       "      <td>-0.336830</td>\n",
       "      <td>-0.323825</td>\n",
       "      <td>0.192680</td>\n",
       "      <td>0.094586</td>\n",
       "    </tr>\n",
       "    <tr>\n",
       "      <th>75%</th>\n",
       "      <td>5.628700</td>\n",
       "      <td>5.416650</td>\n",
       "      <td>6.334425</td>\n",
       "      <td>7.414350</td>\n",
       "      <td>7.970625</td>\n",
       "      <td>9.050475</td>\n",
       "      <td>9.839600</td>\n",
       "      <td>8.521600</td>\n",
       "      <td>11.085100</td>\n",
       "      <td>10.787325</td>\n",
       "      <td>11.951025</td>\n",
       "      <td>7.418200</td>\n",
       "      <td>7.922900</td>\n",
       "      <td>6.251125</td>\n",
       "    </tr>\n",
       "    <tr>\n",
       "      <th>max</th>\n",
       "      <td>52.543400</td>\n",
       "      <td>48.431300</td>\n",
       "      <td>208.565200</td>\n",
       "      <td>77.857900</td>\n",
       "      <td>234.889100</td>\n",
       "      <td>95.311600</td>\n",
       "      <td>159.357800</td>\n",
       "      <td>96.310000</td>\n",
       "      <td>124.113300</td>\n",
       "      <td>87.487600</td>\n",
       "      <td>221.220400</td>\n",
       "      <td>83.173400</td>\n",
       "      <td>226.865200</td>\n",
       "      <td>56.314400</td>\n",
       "    </tr>\n",
       "  </tbody>\n",
       "</table>\n",
       "</div>"
      ],
      "text/plain": [
       "                 AF3            AF4             F3             F4  \\\n",
       "count  114756.000000  114756.000000  114756.000000  114756.000000   \n",
       "mean        0.012065       0.003977       0.015898      -0.006394   \n",
       "std         8.960699       9.292756      11.849812      12.009312   \n",
       "min       -51.624500     -71.382200    -199.866600     -94.795000   \n",
       "25%        -5.763050      -5.417950      -6.191325      -7.387200   \n",
       "50%        -0.182660      -0.250595      -0.161820      -0.016519   \n",
       "75%         5.628700       5.416650       6.334425       7.414350   \n",
       "max        52.543400      48.431300     208.565200      77.857900   \n",
       "\n",
       "                  F7             F8            FC5            FC6  \\\n",
       "count  114756.000000  114756.000000  114756.000000  114756.000000   \n",
       "mean       -0.010433      -0.041711      -0.023973       0.010470   \n",
       "std        20.638574      13.298301      14.981620      12.938308   \n",
       "min      -234.664500    -103.468500     -83.861800     -75.213300   \n",
       "25%        -8.135475      -9.125625      -9.804300      -8.768925   \n",
       "50%        -0.058142       0.052383       0.111575      -0.286610   \n",
       "75%         7.970625       9.050475       9.839600       8.521600   \n",
       "max       234.889100      95.311600     159.357800      96.310000   \n",
       "\n",
       "                  O1             O2             P7             P8  \\\n",
       "count  114756.000000  114756.000000  114756.000000  114756.000000   \n",
       "mean       -0.031391       0.013208      -0.000288       0.001717   \n",
       "std        19.195509      16.776645      20.575209      11.684625   \n",
       "min      -144.528500     -96.621000    -143.605700     -71.560600   \n",
       "25%       -11.420125     -10.751525     -12.103150      -7.731850   \n",
       "50%        -0.202450      -0.050939      -0.336830      -0.323825   \n",
       "75%        11.085100      10.787325      11.951025       7.418200   \n",
       "max       124.113300      87.487600     221.220400      83.173400   \n",
       "\n",
       "                  T7             T8  \n",
       "count  114756.000000  114756.000000  \n",
       "mean        0.014933      -0.006158  \n",
       "std        14.723296       9.859680  \n",
       "min      -136.875800     -57.277100  \n",
       "25%        -7.727000      -6.092650  \n",
       "50%         0.192680       0.094586  \n",
       "75%         7.922900       6.251125  \n",
       "max       226.865200      56.314400  "
      ]
     },
     "execution_count": 8,
     "metadata": {},
     "output_type": "execute_result"
    }
   ],
   "source": [
    "df.describe()"
   ]
  },
  {
   "cell_type": "code",
   "execution_count": 9,
   "id": "0e3f9576-b5f4-4c46-8064-609b9ad3aa6f",
   "metadata": {},
   "outputs": [],
   "source": [
    "scaler = StandardScaler()\n",
    "X = scaler.fit_transform(df)"
   ]
  },
  {
   "cell_type": "code",
   "execution_count": 11,
   "id": "5e2b6801-3f4e-466b-bebd-d6a984fea5d8",
   "metadata": {},
   "outputs": [
    {
     "name": "stderr",
     "output_type": "stream",
     "text": [
      "Z:\\Anaconda\\Lib\\site-packages\\joblib\\externals\\loky\\backend\\context.py:136: UserWarning: Could not find the number of physical cores for the following reason:\n",
      "[WinError 2] Не удается найти указанный файл\n",
      "Returning the number of logical cores instead. You can silence this warning by setting LOKY_MAX_CPU_COUNT to the number of cores you want to use.\n",
      "  warnings.warn(\n",
      "  File \"Z:\\Anaconda\\Lib\\site-packages\\joblib\\externals\\loky\\backend\\context.py\", line 257, in _count_physical_cores\n",
      "    cpu_info = subprocess.run(\n",
      "               ^^^^^^^^^^^^^^^\n",
      "  File \"Z:\\Anaconda\\Lib\\subprocess.py\", line 548, in run\n",
      "    with Popen(*popenargs, **kwargs) as process:\n",
      "         ^^^^^^^^^^^^^^^^^^^^^^^^^^^\n",
      "  File \"Z:\\Anaconda\\Lib\\subprocess.py\", line 1026, in __init__\n",
      "    self._execute_child(args, executable, preexec_fn, close_fds,\n",
      "  File \"Z:\\Anaconda\\Lib\\subprocess.py\", line 1538, in _execute_child\n",
      "    hp, ht, pid, tid = _winapi.CreateProcess(executable, args,\n",
      "                       ^^^^^^^^^^^^^^^^^^^^^^^^^^^^^^^^^^^^^^^\n"
     ]
    },
    {
     "name": "stdout",
     "output_type": "stream",
     "text": [
      "CPU times: total: 18min 57s\n",
      "Wall time: 18min 40s\n"
     ]
    }
   ],
   "source": [
    "%%time\n",
    "tsne = TSNE(random_state=17)\n",
    "tsne_representation = tsne.fit_transform(X)"
   ]
  },
  {
   "cell_type": "code",
   "execution_count": 14,
   "id": "59bfb8f6-a62a-466c-a4ba-26477f351976",
   "metadata": {},
   "outputs": [
    {
     "data": {
      "text/plain": [
       "<matplotlib.collections.PathCollection at 0x24a38804ef0>"
      ]
     },
     "execution_count": 14,
     "metadata": {},
     "output_type": "execute_result"
    },
    {
     "data": {
      "image/png": "[encoded data removed]",
      "text/plain": [
       "<Figure size 640x480 with 1 Axes>"
      ]
     },
     "metadata": {},
     "output_type": "display_data"
    }
   ],
   "source": [
    "plt.scatter(tsne_representation[:, 0], tsne_representation[:, 1])"
   ]
  },
  {
   "cell_type": "code",
   "execution_count": 22,
   "id": "e8e6fabd-77db-4aae-a426-253292ff5156",
   "metadata": {},
   "outputs": [
    {
     "data": {
      "text/plain": [
       "<Axes: >"
      ]
     },
     "execution_count": 22,
     "metadata": {},
     "output_type": "execute_result"
    },
    {
     "data": {
      "image/png": "[encoded data removed]",
      "text/plain": [
       "<Figure size 640x480 with 2 Axes>"
      ]
     },
     "metadata": {},
     "output_type": "display_data"
    }
   ],
   "source": [
    "glue = df.corr()\n",
    "sns.heatmap(glue)"
   ]
  },
  {
   "cell_type": "code",
   "execution_count": null,
   "id": "362d5286-b983-47c3-8334-2dfd8dd79681",
   "metadata": {},
   "outputs": [],
   "source": []
  }
 ],
 "metadata": {
  "kernelspec": {
   "display_name": "Python [conda env:base] *",
   "language": "python",
   "name": "conda-base-py"
  },
  "language_info": {
   "codemirror_mode": {
    "name": "ipython",
    "version": 3
   },
   "file_extension": ".py",
   "mimetype": "text/x-python",
   "name": "python",
   "nbconvert_exporter": "python",
   "pygments_lexer": "ipython3",
   "version": "3.12.3"
  }
 },
 "nbformat": 4,
 "nbformat_minor": 5
}
